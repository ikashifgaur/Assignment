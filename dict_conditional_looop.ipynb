{
 "cells": [
  {
   "cell_type": "code",
   "execution_count": 1,
   "id": "fce43849-5560-466b-8691-5d0fe948b44b",
   "metadata": {},
   "outputs": [
    {
     "name": "stdout",
     "output_type": "stream",
     "text": [
      "dictonary is a data type\n"
     ]
    }
   ],
   "source": [
    "print(\"dictonary is a data type\")"
   ]
  },
  {
   "cell_type": "code",
   "execution_count": 2,
   "id": "8c58a59f-a9f1-48b2-ba7c-903437cf7174",
   "metadata": {},
   "outputs": [],
   "source": [
    "d={}"
   ]
  },
  {
   "cell_type": "code",
   "execution_count": 3,
   "id": "6b1b2e54-f0fa-4df4-a0bc-932bf411c8b9",
   "metadata": {},
   "outputs": [
    {
     "data": {
      "text/plain": [
       "dict"
      ]
     },
     "execution_count": 3,
     "metadata": {},
     "output_type": "execute_result"
    }
   ],
   "source": [
    "type(d)"
   ]
  },
  {
   "cell_type": "code",
   "execution_count": 4,
   "id": "62c72485-31b0-4c36-a101-38d30637d783",
   "metadata": {},
   "outputs": [],
   "source": [
    "d1={'key' :\"Kashif\"}"
   ]
  },
  {
   "cell_type": "code",
   "execution_count": 5,
   "id": "5f500bee-503d-4d08-a64c-2493dc500400",
   "metadata": {},
   "outputs": [
    {
     "data": {
      "text/plain": [
       "{'key': 'Kashif'}"
      ]
     },
     "execution_count": 5,
     "metadata": {},
     "output_type": "execute_result"
    }
   ],
   "source": [
    "d1"
   ]
  },
  {
   "cell_type": "code",
   "execution_count": 6,
   "id": "4528a5f3-5b39-4c9e-86d5-6964b5b2bbb8",
   "metadata": {},
   "outputs": [],
   "source": [
    "d2={'name':'kashif', 'email' :'kashifahmad@gmail.com','number' : 789592}"
   ]
  },
  {
   "cell_type": "code",
   "execution_count": 7,
   "id": "5b99ae19-20d1-4b28-9b16-1ccfec2ea020",
   "metadata": {},
   "outputs": [
    {
     "data": {
      "text/plain": [
       "{'name': 'kashif', 'email': 'kashifahmad@gmail.com', 'number': 789592}"
      ]
     },
     "execution_count": 7,
     "metadata": {},
     "output_type": "execute_result"
    }
   ],
   "source": [
    "d2"
   ]
  },
  {
   "cell_type": "code",
   "execution_count": 8,
   "id": "4bade1c6-d122-4dba-bb7f-554467b29dff",
   "metadata": {},
   "outputs": [],
   "source": [
    "d3={234:'kash'}"
   ]
  },
  {
   "cell_type": "code",
   "execution_count": 9,
   "id": "e051853c-c475-4993-a8c0-7734fd735f86",
   "metadata": {},
   "outputs": [
    {
     "data": {
      "text/plain": [
       "{234: 'kash'}"
      ]
     },
     "execution_count": 9,
     "metadata": {},
     "output_type": "execute_result"
    }
   ],
   "source": [
    "d3"
   ]
  },
  {
   "cell_type": "code",
   "execution_count": 12,
   "id": "c28d5729-13c1-4f31-8a2d-70c52ec03de6",
   "metadata": {},
   "outputs": [
    {
     "ename": "SyntaxError",
     "evalue": "invalid syntax (50275890.py, line 1)",
     "output_type": "error",
     "traceback": [
      "\u001b[0;36m  Cell \u001b[0;32mIn[12], line 1\u001b[0;36m\u001b[0m\n\u001b[0;31m    d4={894 :'ahmad',@write :'gaur'}\u001b[0m\n\u001b[0m                     ^\u001b[0m\n\u001b[0;31mSyntaxError\u001b[0m\u001b[0;31m:\u001b[0m invalid syntax\n"
     ]
    }
   ],
   "source": [
    "d4={894 :'ahmad',@write :'gaur'}"
   ]
  },
  {
   "cell_type": "code",
   "execution_count": 13,
   "id": "fb5d1e6f-231f-4e60-a7db-5a0b23cd215b",
   "metadata": {},
   "outputs": [],
   "source": [
    "d5={True :92374}"
   ]
  },
  {
   "cell_type": "code",
   "execution_count": 14,
   "id": "3c2fadb0-fe17-40d5-a8ee-663e7c84bf00",
   "metadata": {},
   "outputs": [
    {
     "data": {
      "text/plain": [
       "92374"
      ]
     },
     "execution_count": 14,
     "metadata": {},
     "output_type": "execute_result"
    }
   ],
   "source": [
    "d5[True]"
   ]
  },
  {
   "cell_type": "code",
   "execution_count": 15,
   "id": "2fa05615-38b9-4607-9bdf-0fabe1b32d3a",
   "metadata": {},
   "outputs": [
    {
     "data": {
      "text/plain": [
       "92374"
      ]
     },
     "execution_count": 15,
     "metadata": {},
     "output_type": "execute_result"
    }
   ],
   "source": [
    "d5[1]"
   ]
  },
  {
   "cell_type": "code",
   "execution_count": 16,
   "id": "688fedda-d66d-4a65-b0ff-79413f6806bb",
   "metadata": {},
   "outputs": [
    {
     "data": {
      "text/plain": [
       "'kashifahmad@gmail.com'"
      ]
     },
     "execution_count": 16,
     "metadata": {},
     "output_type": "execute_result"
    }
   ],
   "source": [
    "d2['email']"
   ]
  },
  {
   "cell_type": "code",
   "execution_count": 17,
   "id": "653a4726-cd6d-47a5-8ece-1756d0e589d5",
   "metadata": {},
   "outputs": [],
   "source": [
    "d6={'name':'kashif','mail_id':'kg@gmail.com','name':'gaur'}"
   ]
  },
  {
   "cell_type": "code",
   "execution_count": 18,
   "id": "fe1f0cb2-a626-4c55-8cf1-95cce112db1b",
   "metadata": {},
   "outputs": [
    {
     "data": {
      "text/plain": [
       "'gaur'"
      ]
     },
     "execution_count": 18,
     "metadata": {},
     "output_type": "execute_result"
    }
   ],
   "source": [
    "d6['name']"
   ]
  },
  {
   "cell_type": "code",
   "execution_count": 20,
   "id": "d190efe4-c958-4733-a2a6-1b6bbbfb0c03",
   "metadata": {},
   "outputs": [
    {
     "name": "stdout",
     "output_type": "stream",
     "text": [
      "key should be unique otherwise it will be override\n"
     ]
    }
   ],
   "source": [
    "print(\"key should be unique otherwise it will be override\")"
   ]
  },
  {
   "cell_type": "code",
   "execution_count": 22,
   "id": "621e6091-03ac-4b8a-b386-2dce9069f5bb",
   "metadata": {},
   "outputs": [],
   "source": [
    "d7={'company':'pw skills','course':['web develeopmen','data science','java with dsa']}"
   ]
  },
  {
   "cell_type": "code",
   "execution_count": 24,
   "id": "40329baa-43b4-4fcb-b950-2f36f2250cf9",
   "metadata": {},
   "outputs": [
    {
     "data": {
      "text/plain": [
       "{'company': 'pw skills',\n",
       " 'course': ['web develeopmen', 'data science', 'java with dsa']}"
      ]
     },
     "execution_count": 24,
     "metadata": {},
     "output_type": "execute_result"
    }
   ],
   "source": [
    "d7"
   ]
  },
  {
   "cell_type": "code",
   "execution_count": 25,
   "id": "c6536154-069a-4c88-a0a7-724e8fd79250",
   "metadata": {},
   "outputs": [
    {
     "data": {
      "text/plain": [
       "['web develeopmen', 'data science', 'java with dsa']"
      ]
     },
     "execution_count": 25,
     "metadata": {},
     "output_type": "execute_result"
    }
   ],
   "source": [
    "d7['course']"
   ]
  },
  {
   "cell_type": "code",
   "execution_count": 26,
   "id": "c6dcbca4-c9f6-42bd-a74d-3501a699f538",
   "metadata": {},
   "outputs": [
    {
     "data": {
      "text/plain": [
       "'java with dsa'"
      ]
     },
     "execution_count": 26,
     "metadata": {},
     "output_type": "execute_result"
    }
   ],
   "source": [
    "d7['course'][2]"
   ]
  },
  {
   "cell_type": "code",
   "execution_count": 29,
   "id": "4888f91c-6e5c-4c75-b12a-0bcb2c0dbb44",
   "metadata": {},
   "outputs": [],
   "source": [
    "d8={'number':[2,4,5,6,7,3],\"assignment\":(1,3,4,5,6,7,),\"launch date\" :{3,5,6,9},\"class time\":{'web dev' :8,'data science' : 10,'java' :3}}"
   ]
  },
  {
   "cell_type": "code",
   "execution_count": 30,
   "id": "22d1e4ed-d8f7-476d-a8cc-db6f01f6340d",
   "metadata": {},
   "outputs": [
    {
     "data": {
      "text/plain": [
       "{'number': [2, 4, 5, 6, 7, 3],\n",
       " 'assignment': (1, 3, 4, 5, 6, 7),\n",
       " 'launch date': {3, 5, 6, 9},\n",
       " 'class time': {'web dev': 8, 'data science': 10, 'java': 3}}"
      ]
     },
     "execution_count": 30,
     "metadata": {},
     "output_type": "execute_result"
    }
   ],
   "source": [
    "d8"
   ]
  },
  {
   "cell_type": "code",
   "execution_count": 31,
   "id": "f97926ce-47cd-433c-94c3-3f753c90e73f",
   "metadata": {},
   "outputs": [
    {
     "data": {
      "text/plain": [
       "3"
      ]
     },
     "execution_count": 31,
     "metadata": {},
     "output_type": "execute_result"
    }
   ],
   "source": [
    "d8['class time']['java']"
   ]
  },
  {
   "cell_type": "code",
   "execution_count": 32,
   "id": "08819d17-e33b-435a-9c50-9f83ba817644",
   "metadata": {},
   "outputs": [],
   "source": [
    "d8['mentor']=[\"sudhanshu\",'krish','anurag','hyder']"
   ]
  },
  {
   "cell_type": "code",
   "execution_count": 34,
   "id": "c3c621da-d00d-40a9-886b-35e2d512552d",
   "metadata": {},
   "outputs": [
    {
     "data": {
      "text/plain": [
       "{'number': [2, 4, 5, 6, 7, 3],\n",
       " 'assignment': (1, 3, 4, 5, 6, 7),\n",
       " 'launch date': {3, 5, 6, 9},\n",
       " 'class time': {'web dev': 8, 'data science': 10, 'java': 3},\n",
       " 'mentor': ['sudhanshu', 'krish', 'anurag', 'hyder']}"
      ]
     },
     "execution_count": 34,
     "metadata": {},
     "output_type": "execute_result"
    }
   ],
   "source": [
    "d8"
   ]
  },
  {
   "cell_type": "code",
   "execution_count": 35,
   "id": "84df6b26-a495-46b8-9a72-e97dbc5239a7",
   "metadata": {},
   "outputs": [],
   "source": [
    "d8['number']=[72,34,56,98]"
   ]
  },
  {
   "cell_type": "code",
   "execution_count": 36,
   "id": "933fe213-9f81-42fe-a263-53696ffd251d",
   "metadata": {},
   "outputs": [
    {
     "data": {
      "text/plain": [
       "{'number': [72, 34, 56, 98],\n",
       " 'assignment': (1, 3, 4, 5, 6, 7),\n",
       " 'launch date': {3, 5, 6, 9},\n",
       " 'class time': {'web dev': 8, 'data science': 10, 'java': 3},\n",
       " 'mentor': ['sudhanshu', 'krish', 'anurag', 'hyder']}"
      ]
     },
     "execution_count": 36,
     "metadata": {},
     "output_type": "execute_result"
    }
   ],
   "source": [
    "d8"
   ]
  },
  {
   "cell_type": "code",
   "execution_count": 38,
   "id": "ed30f7fd-d882-4c6a-9ac5-02076a45fb07",
   "metadata": {},
   "outputs": [],
   "source": [
    "del d8['number']"
   ]
  },
  {
   "cell_type": "code",
   "execution_count": 39,
   "id": "b9e704fe-7edb-4462-9476-3597cc8b8a65",
   "metadata": {},
   "outputs": [
    {
     "data": {
      "text/plain": [
       "{'assignment': (1, 3, 4, 5, 6, 7),\n",
       " 'launch date': {3, 5, 6, 9},\n",
       " 'class time': {'web dev': 8, 'data science': 10, 'java': 3},\n",
       " 'mentor': ['sudhanshu', 'krish', 'anurag', 'hyder']}"
      ]
     },
     "execution_count": 39,
     "metadata": {},
     "output_type": "execute_result"
    }
   ],
   "source": [
    "d8\n"
   ]
  },
  {
   "cell_type": "code",
   "execution_count": 40,
   "id": "8f14fb70-0592-4240-af5b-6edd2c2714a5",
   "metadata": {},
   "outputs": [
    {
     "data": {
      "text/plain": [
       "dict_keys(['assignment', 'launch date', 'class time', 'mentor'])"
      ]
     },
     "execution_count": 40,
     "metadata": {},
     "output_type": "execute_result"
    }
   ],
   "source": [
    "d8.keys()"
   ]
  },
  {
   "cell_type": "code",
   "execution_count": 41,
   "id": "7fc3a046-802c-4a64-9dbf-1ab9fd3f8eda",
   "metadata": {},
   "outputs": [
    {
     "data": {
      "text/plain": [
       "['assignment', 'launch date', 'class time', 'mentor']"
      ]
     },
     "execution_count": 41,
     "metadata": {},
     "output_type": "execute_result"
    }
   ],
   "source": [
    "list(d8.keys())"
   ]
  },
  {
   "cell_type": "code",
   "execution_count": 43,
   "id": "7e62deee-8642-4c97-b372-160b3a598b6a",
   "metadata": {},
   "outputs": [
    {
     "data": {
      "text/plain": [
       "[('assignment', (1, 3, 4, 5, 6, 7)),\n",
       " ('launch date', {3, 5, 6, 9}),\n",
       " ('class time', {'web dev': 8, 'data science': 10, 'java': 3}),\n",
       " ('mentor', ['sudhanshu', 'krish', 'anurag', 'hyder'])]"
      ]
     },
     "execution_count": 43,
     "metadata": {},
     "output_type": "execute_result"
    }
   ],
   "source": [
    "list(d8.items())"
   ]
  },
  {
   "cell_type": "code",
   "execution_count": 45,
   "id": "6d77f5d9-46b1-4a20-b6a4-cd7f14fa8abc",
   "metadata": {},
   "outputs": [
    {
     "data": {
      "text/plain": [
       "(1, 3, 4, 5, 6, 7)"
      ]
     },
     "execution_count": 45,
     "metadata": {},
     "output_type": "execute_result"
    }
   ],
   "source": [
    "d8.pop('assignment')"
   ]
  },
  {
   "cell_type": "code",
   "execution_count": 46,
   "id": "8e894963-dce8-4870-b1ea-06e7dc942448",
   "metadata": {},
   "outputs": [
    {
     "data": {
      "text/plain": [
       "{'launch date': {3, 5, 6, 9},\n",
       " 'class time': {'web dev': 8, 'data science': 10, 'java': 3},\n",
       " 'mentor': ['sudhanshu', 'krish', 'anurag', 'hyder']}"
      ]
     },
     "execution_count": 46,
     "metadata": {},
     "output_type": "execute_result"
    }
   ],
   "source": [
    "d8"
   ]
  },
  {
   "cell_type": "code",
   "execution_count": 47,
   "id": "24b294e1-c4b9-4e7e-b596-c6545f981e74",
   "metadata": {},
   "outputs": [
    {
     "data": {
      "text/plain": [
       "{'launch date': {3, 5, 6, 9},\n",
       " 'class time': {'web dev': 8, 'data science': 10, 'java': 3},\n",
       " 'mentor': ['sudhanshu', 'krish', 'anurag', 'hyder']}"
      ]
     },
     "execution_count": 47,
     "metadata": {},
     "output_type": "execute_result"
    }
   ],
   "source": [
    "d8.copy()"
   ]
  },
  {
   "cell_type": "code",
   "execution_count": 50,
   "id": "5fef7245-73f0-4712-956a-74e2a7cb44dc",
   "metadata": {},
   "outputs": [
    {
     "data": {
      "text/plain": [
       "['web dev', 'data science', 'java']"
      ]
     },
     "execution_count": 50,
     "metadata": {},
     "output_type": "execute_result"
    }
   ],
   "source": [
    "list(d8.get('class time'))"
   ]
  },
  {
   "cell_type": "code",
   "execution_count": 51,
   "id": "9443e25b-901f-4a49-8b62-b5cb869681b2",
   "metadata": {},
   "outputs": [
    {
     "name": "stdout",
     "output_type": "stream",
     "text": [
      "control statement\n"
     ]
    }
   ],
   "source": [
    "print('control statement')"
   ]
  },
  {
   "cell_type": "code",
   "execution_count": 63,
   "id": "4008bed4-5287-4d7a-a581-dc1948fb7920",
   "metadata": {},
   "outputs": [
    {
     "name": "stdout",
     "output_type": "stream",
     "text": [
      "kashif\n"
     ]
    }
   ],
   "source": [
    "print('kashif')"
   ]
  },
  {
   "cell_type": "code",
   "execution_count": 66,
   "id": "d325cf42-e9e8-4ae5-81db-5aa6d7f93a2b",
   "metadata": {},
   "outputs": [
    {
     "ename": "SyntaxError",
     "evalue": "invalid syntax (1876305747.py, line 4)",
     "output_type": "error",
     "traceback": [
      "\u001b[0;36m  Cell \u001b[0;32mIn[66], line 4\u001b[0;36m\u001b[0m\n\u001b[0;31m    elif marks>=60 and marks<80 :\u001b[0m\n\u001b[0m    ^\u001b[0m\n\u001b[0;31mSyntaxError\u001b[0m\u001b[0;31m:\u001b[0m invalid syntax\n"
     ]
    }
   ],
   "source": [
    "marks=65\n",
    "if marks>=80:\n",
    "    print('you are a part of A0 batch')\n",
    "    elif marks>=60 and marks<80 :\n",
    "         print('you are a part of A1 batch')\n",
    "        "
   ]
  },
  {
   "cell_type": "code",
   "execution_count": 67,
   "id": "bb3f5323-f868-4bd7-ac50-dcd4e4b3a7d7",
   "metadata": {},
   "outputs": [
    {
     "data": {
      "text/plain": [
       "False"
      ]
     },
     "execution_count": 67,
     "metadata": {},
     "output_type": "execute_result"
    }
   ],
   "source": [
    "10>=80"
   ]
  },
  {
   "cell_type": "code",
   "execution_count": 68,
   "id": "b47e8215-f2f4-4a03-89b9-6368a3861f71",
   "metadata": {},
   "outputs": [
    {
     "ename": "SyntaxError",
     "evalue": "invalid syntax (1414669248.py, line 4)",
     "output_type": "error",
     "traceback": [
      "\u001b[0;36m  Cell \u001b[0;32mIn[68], line 4\u001b[0;36m\u001b[0m\n\u001b[0;31m    else:\u001b[0m\n\u001b[0m    ^\u001b[0m\n\u001b[0;31mSyntaxError\u001b[0m\u001b[0;31m:\u001b[0m invalid syntax\n"
     ]
    }
   ],
   "source": [
    "i=10\n",
    "if i>=20:\n",
    "    print(\"kashif\")\n",
    "    else:\n",
    "        print(\"ahmad\")"
   ]
  },
  {
   "cell_type": "code",
   "execution_count": 70,
   "id": "5dd6ef7b-533c-4f85-ad93-2576f2aa4bdf",
   "metadata": {},
   "outputs": [
    {
     "name": "stdout",
     "output_type": "stream",
     "text": [
      "ahmad\n"
     ]
    }
   ],
   "source": [
    "print('ahmad')"
   ]
  },
  {
   "cell_type": "code",
   "execution_count": 79,
   "id": "5ff87f93-56bc-443d-9645-1ae2911ce0fd",
   "metadata": {},
   "outputs": [
    {
     "name": "stdout",
     "output_type": "stream",
     "text": [
      "You are of batch A3\n"
     ]
    }
   ],
   "source": [
    "marks=65\n",
    "if marks>=90:\n",
    "    print('you are of batch A0')\n",
    "elif    marks>=70 and marks<90:\n",
    "        print('you are of batch A1')\n",
    "else:\n",
    "    print(\"You are of batch A3\")"
   ]
  },
  {
   "cell_type": "code",
   "execution_count": 80,
   "id": "d513a34d-904b-4a14-ae65-10fb8f5a31d0",
   "metadata": {},
   "outputs": [
    {
     "name": "stdin",
     "output_type": "stream",
     "text": [
      "enter marks 1\n"
     ]
    }
   ],
   "source": [
    "marks1=input('enter marks')"
   ]
  },
  {
   "cell_type": "code",
   "execution_count": 75,
   "id": "101133cb-a2ea-46bf-a39d-83976b243468",
   "metadata": {},
   "outputs": [
    {
     "name": "stdout",
     "output_type": "stream",
     "text": [
      "a\n"
     ]
    }
   ],
   "source": [
    "print('a')"
   ]
  },
  {
   "cell_type": "code",
   "execution_count": 78,
   "id": "295ef4b9-fbd7-4206-918c-1e53110e8fe0",
   "metadata": {},
   "outputs": [
    {
     "name": "stdin",
     "output_type": "stream",
     "text": [
      "Enter price 1200\n"
     ]
    },
    {
     "name": "stdout",
     "output_type": "stream",
     "text": [
      "i will not purchase\n"
     ]
    }
   ],
   "source": [
    "price=int(input(\"Enter price\"))\n",
    "if price> 1000:\n",
    "    print('i will not purchase')\n",
    "else : \n",
    "    print('i will not')"
   ]
  },
  {
   "cell_type": "code",
   "execution_count": 81,
   "id": "d05d4bce-c1dd-4115-a0c5-fc9fe94a7232",
   "metadata": {},
   "outputs": [
    {
     "name": "stdin",
     "output_type": "stream",
     "text": [
      "Enter price 7000\n"
     ]
    },
    {
     "name": "stdout",
     "output_type": "stream",
     "text": [
      "i will not purchase\n",
      "this is too much\n"
     ]
    }
   ],
   "source": [
    "price=int(input(\"Enter price\"))\n",
    "if price>1000:\n",
    "    print('i will not purchase')\n",
    "if price>5000:\n",
    "    print('this is too much') "
   ]
  },
  {
   "cell_type": "code",
   "execution_count": 82,
   "id": "4091bdfb-6528-4a8c-b9c4-6208c39ac475",
   "metadata": {},
   "outputs": [],
   "source": [
    "l=[1,2,3,4,5,6,7,8,9]"
   ]
  },
  {
   "cell_type": "code",
   "execution_count": 83,
   "id": "5e9d5990-e9e4-49d0-baa8-378d7730931c",
   "metadata": {},
   "outputs": [
    {
     "data": {
      "text/plain": [
       "1"
      ]
     },
     "execution_count": 83,
     "metadata": {},
     "output_type": "execute_result"
    }
   ],
   "source": [
    "l[0]"
   ]
  },
  {
   "cell_type": "code",
   "execution_count": 84,
   "id": "92be6171-8f26-4b46-bbdd-4d109a98f445",
   "metadata": {},
   "outputs": [
    {
     "data": {
      "text/plain": [
       "2"
      ]
     },
     "execution_count": 84,
     "metadata": {},
     "output_type": "execute_result"
    }
   ],
   "source": [
    "l[0]+1"
   ]
  },
  {
   "cell_type": "code",
   "execution_count": 85,
   "id": "9a0d0d6a-bae5-4e98-8702-2557eb7d2b8e",
   "metadata": {},
   "outputs": [],
   "source": [
    "l1=[]"
   ]
  },
  {
   "cell_type": "code",
   "execution_count": 86,
   "id": "7fa097f1-d7ff-4d1f-80f4-9677459a5362",
   "metadata": {},
   "outputs": [],
   "source": [
    "l1.append(l[0]+1)"
   ]
  },
  {
   "cell_type": "code",
   "execution_count": 87,
   "id": "33734cd4-3293-4226-b8d9-85af66aeffef",
   "metadata": {},
   "outputs": [
    {
     "data": {
      "text/plain": [
       "[2]"
      ]
     },
     "execution_count": 87,
     "metadata": {},
     "output_type": "execute_result"
    }
   ],
   "source": [
    "l1"
   ]
  },
  {
   "cell_type": "code",
   "execution_count": 88,
   "id": "0e9eb6ab-d106-4844-bf90-5f6cda23ce80",
   "metadata": {},
   "outputs": [],
   "source": [
    "l=[1,2,3,4,5,6,7,8,9]"
   ]
  },
  {
   "cell_type": "code",
   "execution_count": 89,
   "id": "53bed986-6682-414c-9f82-6c418e2a5062",
   "metadata": {},
   "outputs": [
    {
     "name": "stdout",
     "output_type": "stream",
     "text": [
      "1\n",
      "2\n",
      "3\n",
      "4\n",
      "5\n",
      "6\n",
      "7\n",
      "8\n",
      "9\n"
     ]
    }
   ],
   "source": [
    "for i in l:\n",
    "    print(i)"
   ]
  },
  {
   "cell_type": "code",
   "execution_count": 91,
   "id": "dd5f20eb-7187-48e4-875f-e886060407fd",
   "metadata": {},
   "outputs": [
    {
     "name": "stdout",
     "output_type": "stream",
     "text": [
      "2\n",
      "3\n",
      "4\n",
      "5\n",
      "6\n",
      "7\n",
      "8\n",
      "9\n",
      "10\n"
     ]
    }
   ],
   "source": [
    "l1=[]\n",
    "for i in l:\n",
    "    print(i+1)\n",
    "    l1.append(i+1)"
   ]
  },
  {
   "cell_type": "code",
   "execution_count": 92,
   "id": "e987b6b0-31a4-4420-9cf1-baa6f1c029b3",
   "metadata": {},
   "outputs": [
    {
     "data": {
      "text/plain": [
       "[2, 3, 4, 5, 6, 7, 8, 9, 10]"
      ]
     },
     "execution_count": 92,
     "metadata": {},
     "output_type": "execute_result"
    }
   ],
   "source": [
    "l1"
   ]
  },
  {
   "cell_type": "code",
   "execution_count": 93,
   "id": "11d609d8-e0d0-4f9f-a78e-5106f3434a30",
   "metadata": {},
   "outputs": [],
   "source": [
    "l2=['data','science','machine','learning']"
   ]
  },
  {
   "cell_type": "code",
   "execution_count": 94,
   "id": "21ec0853-5a2d-41b3-8e11-f3cc7edb9568",
   "metadata": {},
   "outputs": [
    {
     "ename": "TypeError",
     "evalue": "sort() takes no positional arguments",
     "output_type": "error",
     "traceback": [
      "\u001b[0;31m---------------------------------------------------------------------------\u001b[0m",
      "\u001b[0;31mTypeError\u001b[0m                                 Traceback (most recent call last)",
      "Cell \u001b[0;32mIn[94], line 1\u001b[0m\n\u001b[0;32m----> 1\u001b[0m \u001b[43ml2\u001b[49m\u001b[38;5;241;43m.\u001b[39;49m\u001b[43msort\u001b[49m\u001b[43m(\u001b[49m\u001b[38;5;28;43;01mFalse\u001b[39;49;00m\u001b[43m)\u001b[49m\n",
      "\u001b[0;31mTypeError\u001b[0m: sort() takes no positional arguments"
     ]
    }
   ],
   "source": [
    "l2.sort(False)"
   ]
  },
  {
   "cell_type": "code",
   "execution_count": 101,
   "id": "5e9ff104-b48e-476b-84ae-e90cc21da857",
   "metadata": {},
   "outputs": [
    {
     "name": "stdout",
     "output_type": "stream",
     "text": [
      "data\n",
      "science\n",
      "machine\n",
      "learning\n"
     ]
    }
   ],
   "source": [
    "\n",
    "l3=[]\n",
    "for i in l2:\n",
    "    print(i)\n",
    "    l3.append(i.upper())"
   ]
  },
  {
   "cell_type": "code",
   "execution_count": 102,
   "id": "eb2cc5e9-336d-4fc1-b830-11ce5d49340f",
   "metadata": {},
   "outputs": [
    {
     "data": {
      "text/plain": [
       "['DATA', 'SCIENCE', 'MACHINE', 'LEARNING']"
      ]
     },
     "execution_count": 102,
     "metadata": {},
     "output_type": "execute_result"
    }
   ],
   "source": [
    "l3"
   ]
  },
  {
   "cell_type": "code",
   "execution_count": 103,
   "id": "0820cb6a-49ee-4ad9-ba17-0e95b2966468",
   "metadata": {},
   "outputs": [],
   "source": []
  },
  {
   "cell_type": "code",
   "execution_count": 115,
   "id": "66b2bb4e-db26-452e-915a-0d7174b94932",
   "metadata": {},
   "outputs": [],
   "source": [
    "l8=[1,2,3,4,5,5,'kashif','ahmad',34.56,'abc']"
   ]
  },
  {
   "cell_type": "code",
   "execution_count": 116,
   "id": "6d09d916-1c7e-498c-9caf-dced842d48ea",
   "metadata": {},
   "outputs": [
    {
     "data": {
      "text/plain": [
       "[1, 2, 3, 4, 5, 5, 'kashif', 'ahmad', 34.56, 'abc']"
      ]
     },
     "execution_count": 116,
     "metadata": {},
     "output_type": "execute_result"
    }
   ],
   "source": [
    "l8"
   ]
  },
  {
   "cell_type": "code",
   "execution_count": 118,
   "id": "51f34878-d8fb-483a-a7f5-54de2a65c0a5",
   "metadata": {},
   "outputs": [],
   "source": [
    "l1_num=[]\n",
    "l2_str=[]\n",
    "for i in l8 :\n",
    "    if type(i)==int or type(i)==float:\n",
    "        l1_num.append(i)\n",
    "    else:\n",
    "        l2_str.append(i)"
   ]
  },
  {
   "cell_type": "code",
   "execution_count": 119,
   "id": "08003376-ae6d-44e6-8d30-ca0e6d441c74",
   "metadata": {},
   "outputs": [
    {
     "data": {
      "text/plain": [
       "[1, 2, 3, 4, 5, 5, 34.56]"
      ]
     },
     "execution_count": 119,
     "metadata": {},
     "output_type": "execute_result"
    }
   ],
   "source": [
    "l1_num"
   ]
  },
  {
   "cell_type": "code",
   "execution_count": 120,
   "id": "9d4a5706-f3e1-4ba3-9ed5-521e0fad3045",
   "metadata": {},
   "outputs": [
    {
     "data": {
      "text/plain": [
       "['kashif', 'ahmad', 'abc']"
      ]
     },
     "execution_count": 120,
     "metadata": {},
     "output_type": "execute_result"
    }
   ],
   "source": [
    "l2_str"
   ]
  },
  {
   "cell_type": "code",
   "execution_count": null,
   "id": "63783697-712c-4de2-9fa3-5d966fe7ee44",
   "metadata": {},
   "outputs": [],
   "source": []
  }
 ],
 "metadata": {
  "kernelspec": {
   "display_name": "Python 3 (ipykernel)",
   "language": "python",
   "name": "python3"
  },
  "language_info": {
   "codemirror_mode": {
    "name": "ipython",
    "version": 3
   },
   "file_extension": ".py",
   "mimetype": "text/x-python",
   "name": "python",
   "nbconvert_exporter": "python",
   "pygments_lexer": "ipython3",
   "version": "3.10.8"
  }
 },
 "nbformat": 4,
 "nbformat_minor": 5
}
